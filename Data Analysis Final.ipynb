{
 "cells": [
  {
   "cell_type": "code",
   "execution_count": 1,
   "metadata": {},
   "outputs": [],
   "source": [
    "import numpy as np\n",
    "import pandas as pd\n",
    "import matplotlib as mpl\n",
    "import matplotlib.pyplot as plt\n",
    "import math"
   ]
  },
  {
   "cell_type": "markdown",
   "metadata": {},
   "source": [
    "# CIS 105 Final Project "
   ]
  },
  {
   "cell_type": "markdown",
   "metadata": {},
   "source": [
    "## Abstract (in 200 words or less explain what you set out to do and what you found)"
   ]
  },
  {
   "cell_type": "markdown",
   "metadata": {},
   "source": [
    "## Data Cleaning (this can be a direct copy of milestone 1)"
   ]
  },
  {
   "cell_type": "markdown",
   "metadata": {},
   "source": [
    "## Basic data exploration via some visualizations "
   ]
  },
  {
   "cell_type": "markdown",
   "metadata": {},
   "source": [
    "## Hypothesis 1 (copy from milestone 2)\n",
    "(repeat this structure. 2 hypothesis per team member. Groups of 2 will do 4. Groups of 3 will do 6.)"
   ]
  },
  {
   "cell_type": "markdown",
   "metadata": {},
   "source": [
    "Remember to hit all these points while testing your hypothesis"
   ]
  },
  {
   "cell_type": "markdown",
   "metadata": {},
   "source": [
    "* What is your null hypothesis?\n",
    "\n",
    "* What is your alternate hypothesis?\n",
    "\n",
    "* What statistic are you picking in order to assess the validity of the null hypothesis?\n",
    "\n",
    "* What is the observed value of the statistic?\n",
    "\n",
    "* What significance level are you using? "
   ]
  },
  {
   "cell_type": "code",
   "execution_count": 56,
   "metadata": {},
   "outputs": [
    {
     "data": {
      "text/html": [
       "<div>\n",
       "<style scoped>\n",
       "    .dataframe tbody tr th:only-of-type {\n",
       "        vertical-align: middle;\n",
       "    }\n",
       "\n",
       "    .dataframe tbody tr th {\n",
       "        vertical-align: top;\n",
       "    }\n",
       "\n",
       "    .dataframe thead th {\n",
       "        text-align: right;\n",
       "    }\n",
       "</style>\n",
       "<table border=\"1\" class=\"dataframe\">\n",
       "  <thead>\n",
       "    <tr style=\"text-align: right;\">\n",
       "      <th></th>\n",
       "      <th>Year</th>\n",
       "      <th>Name</th>\n",
       "      <th>Position</th>\n",
       "      <th>Height (in)</th>\n",
       "      <th>Weight (lbs)</th>\n",
       "      <th>40 Yard Dash</th>\n",
       "      <th>20 Yard Shuttle</th>\n",
       "      <th>3-Cone Drill</th>\n",
       "      <th>Vertical Jump (in)</th>\n",
       "      <th>Broad Jump (in)</th>\n",
       "      <th>Bench Press Reps</th>\n",
       "      <th>Round Drafted</th>\n",
       "      <th>Overall Pick</th>\n",
       "      <th>College</th>\n",
       "    </tr>\n",
       "  </thead>\n",
       "  <tbody>\n",
       "    <tr>\n",
       "      <th>320</th>\n",
       "      <td>2014</td>\n",
       "      <td>Jared Abbrederis</td>\n",
       "      <td>WR</td>\n",
       "      <td>73.0</td>\n",
       "      <td>195</td>\n",
       "      <td>4.5</td>\n",
       "      <td>4.08</td>\n",
       "      <td>6.8</td>\n",
       "      <td>30.5</td>\n",
       "      <td>117</td>\n",
       "      <td>4</td>\n",
       "      <td>6</td>\n",
       "      <td>176</td>\n",
       "      <td>Wisconsin</td>\n",
       "    </tr>\n",
       "    <tr>\n",
       "      <th>321</th>\n",
       "      <td>2014</td>\n",
       "      <td>Davante Adams</td>\n",
       "      <td>WR</td>\n",
       "      <td>73.0</td>\n",
       "      <td>212</td>\n",
       "      <td>4.56</td>\n",
       "      <td>4.3</td>\n",
       "      <td>6.82</td>\n",
       "      <td>39.5</td>\n",
       "      <td>123</td>\n",
       "      <td>14</td>\n",
       "      <td>2</td>\n",
       "      <td>53</td>\n",
       "      <td>Fresno St.</td>\n",
       "    </tr>\n",
       "    <tr>\n",
       "      <th>322</th>\n",
       "      <td>2014</td>\n",
       "      <td>Mo Alexander</td>\n",
       "      <td>SS</td>\n",
       "      <td>73.0</td>\n",
       "      <td>220</td>\n",
       "      <td>4.54</td>\n",
       "      <td>4.51</td>\n",
       "      <td>7.05</td>\n",
       "      <td>38</td>\n",
       "      <td>123</td>\n",
       "      <td>N/A</td>\n",
       "      <td>4</td>\n",
       "      <td>110</td>\n",
       "      <td>Utah St.</td>\n",
       "    </tr>\n",
       "    <tr>\n",
       "      <th>323</th>\n",
       "      <td>2014</td>\n",
       "      <td>Ricardo Allen</td>\n",
       "      <td>CB</td>\n",
       "      <td>69.0</td>\n",
       "      <td>187</td>\n",
       "      <td>4.61</td>\n",
       "      <td>4.15</td>\n",
       "      <td>N/A</td>\n",
       "      <td>35.5</td>\n",
       "      <td>117</td>\n",
       "      <td>13</td>\n",
       "      <td>5</td>\n",
       "      <td>147</td>\n",
       "      <td>Purdue</td>\n",
       "    </tr>\n",
       "    <tr>\n",
       "      <th>324</th>\n",
       "      <td>2014</td>\n",
       "      <td>Jace Amaro</td>\n",
       "      <td>TE</td>\n",
       "      <td>77.0</td>\n",
       "      <td>265</td>\n",
       "      <td>4.74</td>\n",
       "      <td>4.3</td>\n",
       "      <td>7.42</td>\n",
       "      <td>33</td>\n",
       "      <td>118</td>\n",
       "      <td>28</td>\n",
       "      <td>2</td>\n",
       "      <td>49</td>\n",
       "      <td>Texas Tech</td>\n",
       "    </tr>\n",
       "  </tbody>\n",
       "</table>\n",
       "</div>"
      ],
      "text/plain": [
       "     Year              Name Position  Height (in)  Weight (lbs) 40 Yard Dash  \\\n",
       "320  2014  Jared Abbrederis       WR         73.0           195          4.5   \n",
       "321  2014     Davante Adams       WR         73.0           212         4.56   \n",
       "322  2014      Mo Alexander       SS         73.0           220         4.54   \n",
       "323  2014     Ricardo Allen       CB         69.0           187         4.61   \n",
       "324  2014        Jace Amaro       TE         77.0           265         4.74   \n",
       "\n",
       "    20 Yard Shuttle 3-Cone Drill Vertical Jump (in) Broad Jump (in)  \\\n",
       "320            4.08          6.8               30.5             117   \n",
       "321             4.3         6.82               39.5             123   \n",
       "322            4.51         7.05                 38             123   \n",
       "323            4.15          N/A               35.5             117   \n",
       "324             4.3         7.42                 33             118   \n",
       "\n",
       "    Bench Press Reps Round Drafted Overall Pick     College  \n",
       "320                4             6          176   Wisconsin  \n",
       "321               14             2           53  Fresno St.  \n",
       "322              N/A             4          110    Utah St.  \n",
       "323               13             5          147      Purdue  \n",
       "324               28             2           49  Texas Tech  "
      ]
     },
     "execution_count": 56,
     "metadata": {},
     "output_type": "execute_result"
    }
   ],
   "source": [
    "combine = pd.read_csv('~/Downloads/combine.csv')\n",
    "\n",
    "combine = combine[['year', 'name', 'position', 'heightinchestotal', 'weight', 'fortyyd', 'twentyss', 'threecone', 'vertical', 'broad', 'bench', 'round','picktotal', 'college']]\n",
    "combine = combine.rename(columns = {'year' : 'Year',\n",
    "                                    'name' : 'Name',\n",
    "                                    'position' : 'Position', \n",
    "                                    'heightinchestotal' : 'Height (in)',\n",
    "                                    'weight' : 'Weight (lbs)', \n",
    "                                    'fortyyd' : '40 Yard Dash', \n",
    "                                    'twentyss' : '20 Yard Shuttle',\n",
    "                                    'threecone' : '3-Cone Drill', \n",
    "                                    'vertical' : 'Vertical Jump (in)',\n",
    "                                    'broad' : 'Broad Jump (in)',\n",
    "                                    'round' : 'Round Drafted',\n",
    "                                    'picktotal' : 'Overall Pick',\n",
    "                                    'bench' : 'Bench Press Reps',\n",
    "                                    'college' : 'College'})\n",
    "\n",
    "combine = combine.drop(combine[combine.Year < 2010].index)\n",
    "combine = combine.drop(combine[combine.Year > 2014].index)\n",
    "\n",
    "draft = {0 : 'Undrafted'}\n",
    "stat = {0 : 'N/A'}\n",
    "\n",
    "combine = combine.replace({'Round Drafted' : draft,\n",
    "                           'Overall Pick' : draft})\n",
    "combine = combine.replace({'40 Yard Dash' : stat, \n",
    "                           '20 Yard Shuttle' : stat, \n",
    "                           '3-Cone Drill' : stat,\n",
    "                           'Vertical Jump (in)' : stat,\n",
    "                           'Broad Jump (in)' : stat,\n",
    "                           'Bench Press Reps' : stat})\n",
    "combine.to_csv('data_tanner_joey_isaiah_cleaned.csv')\n",
    "combine.head()"
   ]
  },
  {
   "cell_type": "code",
   "execution_count": 58,
   "metadata": {},
   "outputs": [
    {
     "data": {
      "text/html": [
       "<div>\n",
       "<style scoped>\n",
       "    .dataframe tbody tr th:only-of-type {\n",
       "        vertical-align: middle;\n",
       "    }\n",
       "\n",
       "    .dataframe tbody tr th {\n",
       "        vertical-align: top;\n",
       "    }\n",
       "\n",
       "    .dataframe thead th {\n",
       "        text-align: right;\n",
       "    }\n",
       "</style>\n",
       "<table border=\"1\" class=\"dataframe\">\n",
       "  <thead>\n",
       "    <tr style=\"text-align: right;\">\n",
       "      <th></th>\n",
       "      <th>Position</th>\n",
       "      <th>Round Drafted</th>\n",
       "    </tr>\n",
       "  </thead>\n",
       "  <tbody>\n",
       "    <tr>\n",
       "      <th>0</th>\n",
       "      <td>C</td>\n",
       "      <td>12</td>\n",
       "    </tr>\n",
       "    <tr>\n",
       "      <th>1</th>\n",
       "      <td>CB</td>\n",
       "      <td>165</td>\n",
       "    </tr>\n",
       "    <tr>\n",
       "      <th>2</th>\n",
       "      <td>DE</td>\n",
       "      <td>130</td>\n",
       "    </tr>\n",
       "    <tr>\n",
       "      <th>3</th>\n",
       "      <td>DT</td>\n",
       "      <td>117</td>\n",
       "    </tr>\n",
       "    <tr>\n",
       "      <th>4</th>\n",
       "      <td>FB</td>\n",
       "      <td>12</td>\n",
       "    </tr>\n",
       "    <tr>\n",
       "      <th>5</th>\n",
       "      <td>FS</td>\n",
       "      <td>50</td>\n",
       "    </tr>\n",
       "    <tr>\n",
       "      <th>6</th>\n",
       "      <td>ILB</td>\n",
       "      <td>66</td>\n",
       "    </tr>\n",
       "    <tr>\n",
       "      <th>7</th>\n",
       "      <td>K</td>\n",
       "      <td>4</td>\n",
       "    </tr>\n",
       "    <tr>\n",
       "      <th>8</th>\n",
       "      <td>LS</td>\n",
       "      <td>1</td>\n",
       "    </tr>\n",
       "    <tr>\n",
       "      <th>9</th>\n",
       "      <td>NT</td>\n",
       "      <td>4</td>\n",
       "    </tr>\n",
       "    <tr>\n",
       "      <th>10</th>\n",
       "      <td>OC</td>\n",
       "      <td>32</td>\n",
       "    </tr>\n",
       "    <tr>\n",
       "      <th>11</th>\n",
       "      <td>OG</td>\n",
       "      <td>88</td>\n",
       "    </tr>\n",
       "    <tr>\n",
       "      <th>12</th>\n",
       "      <td>OLB</td>\n",
       "      <td>121</td>\n",
       "    </tr>\n",
       "    <tr>\n",
       "      <th>13</th>\n",
       "      <td>OT</td>\n",
       "      <td>121</td>\n",
       "    </tr>\n",
       "    <tr>\n",
       "      <th>14</th>\n",
       "      <td>P</td>\n",
       "      <td>5</td>\n",
       "    </tr>\n",
       "    <tr>\n",
       "      <th>15</th>\n",
       "      <td>QB</td>\n",
       "      <td>89</td>\n",
       "    </tr>\n",
       "    <tr>\n",
       "      <th>16</th>\n",
       "      <td>RB</td>\n",
       "      <td>158</td>\n",
       "    </tr>\n",
       "    <tr>\n",
       "      <th>17</th>\n",
       "      <td>SS</td>\n",
       "      <td>61</td>\n",
       "    </tr>\n",
       "    <tr>\n",
       "      <th>18</th>\n",
       "      <td>TE</td>\n",
       "      <td>83</td>\n",
       "    </tr>\n",
       "    <tr>\n",
       "      <th>19</th>\n",
       "      <td>WR</td>\n",
       "      <td>210</td>\n",
       "    </tr>\n",
       "  </tbody>\n",
       "</table>\n",
       "</div>"
      ],
      "text/plain": [
       "   Position  Round Drafted\n",
       "0         C             12\n",
       "1        CB            165\n",
       "2        DE            130\n",
       "3        DT            117\n",
       "4        FB             12\n",
       "5        FS             50\n",
       "6       ILB             66\n",
       "7         K              4\n",
       "8        LS              1\n",
       "9        NT              4\n",
       "10       OC             32\n",
       "11       OG             88\n",
       "12      OLB            121\n",
       "13       OT            121\n",
       "14        P              5\n",
       "15       QB             89\n",
       "16       RB            158\n",
       "17       SS             61\n",
       "18       TE             83\n",
       "19       WR            210"
      ]
     },
     "execution_count": 58,
     "metadata": {},
     "output_type": "execute_result"
    }
   ],
   "source": [
    "combine.groupby(\"Position\", as_index = False).agg({\"Round Drafted\": \"count\"})"
   ]
  },
  {
   "cell_type": "markdown",
   "metadata": {},
   "source": [
    "## Visualization that leads to a hypothesis"
   ]
  },
  {
   "cell_type": "markdown",
   "metadata": {},
   "source": [
    "Most hypothesis show up once you explore the data, create a visualization, and then realize something might be happening."
   ]
  },
  {
   "cell_type": "code",
   "execution_count": 4,
   "metadata": {},
   "outputs": [],
   "source": [
    "skills = [\"WR\", \"SS\", \"FS\", \"CB\"]"
   ]
  },
  {
   "cell_type": "code",
   "execution_count": 5,
   "metadata": {},
   "outputs": [],
   "source": [
    "skills = combine[combine[\"Position\"].isin(skills)]"
   ]
  },
  {
   "cell_type": "code",
   "execution_count": 6,
   "metadata": {},
   "outputs": [],
   "source": [
    "#WRs = combine[combine[\"Position\"]==\"WR\"]"
   ]
  },
  {
   "cell_type": "code",
   "execution_count": 7,
   "metadata": {},
   "outputs": [],
   "source": [
    "skills = skills[skills[\"40 Yard Dash\"]!= \"N/A\"]"
   ]
  },
  {
   "cell_type": "code",
   "execution_count": 8,
   "metadata": {},
   "outputs": [],
   "source": [
    "skills = skills[[\"Position\",\"40 Yard Dash\",\"Overall Pick\"]]"
   ]
  },
  {
   "cell_type": "code",
   "execution_count": 9,
   "metadata": {},
   "outputs": [
    {
     "data": {
      "text/html": [
       "<div>\n",
       "<style scoped>\n",
       "    .dataframe tbody tr th:only-of-type {\n",
       "        vertical-align: middle;\n",
       "    }\n",
       "\n",
       "    .dataframe tbody tr th {\n",
       "        vertical-align: top;\n",
       "    }\n",
       "\n",
       "    .dataframe thead th {\n",
       "        text-align: right;\n",
       "    }\n",
       "</style>\n",
       "<table border=\"1\" class=\"dataframe\">\n",
       "  <thead>\n",
       "    <tr style=\"text-align: right;\">\n",
       "      <th></th>\n",
       "      <th>Position</th>\n",
       "      <th>40 Yard Dash</th>\n",
       "      <th>Overall Pick</th>\n",
       "    </tr>\n",
       "  </thead>\n",
       "  <tbody>\n",
       "    <tr>\n",
       "      <th>320</th>\n",
       "      <td>WR</td>\n",
       "      <td>4.5</td>\n",
       "      <td>176</td>\n",
       "    </tr>\n",
       "    <tr>\n",
       "      <th>321</th>\n",
       "      <td>WR</td>\n",
       "      <td>4.56</td>\n",
       "      <td>53</td>\n",
       "    </tr>\n",
       "    <tr>\n",
       "      <th>322</th>\n",
       "      <td>SS</td>\n",
       "      <td>4.54</td>\n",
       "      <td>110</td>\n",
       "    </tr>\n",
       "    <tr>\n",
       "      <th>323</th>\n",
       "      <td>CB</td>\n",
       "      <td>4.61</td>\n",
       "      <td>147</td>\n",
       "    </tr>\n",
       "    <tr>\n",
       "      <th>330</th>\n",
       "      <td>SS</td>\n",
       "      <td>4.66</td>\n",
       "      <td>Undrafted</td>\n",
       "    </tr>\n",
       "    <tr>\n",
       "      <th>...</th>\n",
       "      <td>...</td>\n",
       "      <td>...</td>\n",
       "      <td>...</td>\n",
       "    </tr>\n",
       "    <tr>\n",
       "      <th>1833</th>\n",
       "      <td>WR</td>\n",
       "      <td>4.53</td>\n",
       "      <td>101</td>\n",
       "    </tr>\n",
       "    <tr>\n",
       "      <th>1834</th>\n",
       "      <td>WR</td>\n",
       "      <td>4.5</td>\n",
       "      <td>Undrafted</td>\n",
       "    </tr>\n",
       "    <tr>\n",
       "      <th>1839</th>\n",
       "      <td>CB</td>\n",
       "      <td>4.43</td>\n",
       "      <td>29</td>\n",
       "    </tr>\n",
       "    <tr>\n",
       "      <th>1841</th>\n",
       "      <td>SS</td>\n",
       "      <td>4.64</td>\n",
       "      <td>Undrafted</td>\n",
       "    </tr>\n",
       "    <tr>\n",
       "      <th>1846</th>\n",
       "      <td>FS</td>\n",
       "      <td>4.44</td>\n",
       "      <td>75</td>\n",
       "    </tr>\n",
       "  </tbody>\n",
       "</table>\n",
       "<p>463 rows × 3 columns</p>\n",
       "</div>"
      ],
      "text/plain": [
       "     Position 40 Yard Dash Overall Pick\n",
       "320        WR          4.5          176\n",
       "321        WR         4.56           53\n",
       "322        SS         4.54          110\n",
       "323        CB         4.61          147\n",
       "330        SS         4.66    Undrafted\n",
       "...       ...          ...          ...\n",
       "1833       WR         4.53          101\n",
       "1834       WR          4.5    Undrafted\n",
       "1839       CB         4.43           29\n",
       "1841       SS         4.64    Undrafted\n",
       "1846       FS         4.44           75\n",
       "\n",
       "[463 rows x 3 columns]"
      ]
     },
     "execution_count": 9,
     "metadata": {},
     "output_type": "execute_result"
    }
   ],
   "source": [
    "skills"
   ]
  },
  {
   "cell_type": "code",
   "execution_count": 10,
   "metadata": {},
   "outputs": [],
   "source": [
    "d_skills = skills[skills[\"Overall Pick\"]!=\"Undrafted\"]"
   ]
  },
  {
   "cell_type": "code",
   "execution_count": 11,
   "metadata": {},
   "outputs": [
    {
     "data": {
      "text/html": [
       "<div>\n",
       "<style scoped>\n",
       "    .dataframe tbody tr th:only-of-type {\n",
       "        vertical-align: middle;\n",
       "    }\n",
       "\n",
       "    .dataframe tbody tr th {\n",
       "        vertical-align: top;\n",
       "    }\n",
       "\n",
       "    .dataframe thead th {\n",
       "        text-align: right;\n",
       "    }\n",
       "</style>\n",
       "<table border=\"1\" class=\"dataframe\">\n",
       "  <thead>\n",
       "    <tr style=\"text-align: right;\">\n",
       "      <th></th>\n",
       "      <th>Position</th>\n",
       "      <th>40 Yard Dash</th>\n",
       "      <th>Overall Pick</th>\n",
       "    </tr>\n",
       "  </thead>\n",
       "  <tbody>\n",
       "    <tr>\n",
       "      <th>1529</th>\n",
       "      <td>CB</td>\n",
       "      <td>4.25</td>\n",
       "      <td>81</td>\n",
       "    </tr>\n",
       "    <tr>\n",
       "      <th>737</th>\n",
       "      <td>WR</td>\n",
       "      <td>4.27</td>\n",
       "      <td>78</td>\n",
       "    </tr>\n",
       "    <tr>\n",
       "      <th>1642</th>\n",
       "      <td>WR</td>\n",
       "      <td>4.28</td>\n",
       "      <td>108</td>\n",
       "    </tr>\n",
       "    <tr>\n",
       "      <th>1341</th>\n",
       "      <td>WR</td>\n",
       "      <td>4.31</td>\n",
       "      <td>111</td>\n",
       "    </tr>\n",
       "    <tr>\n",
       "      <th>1456</th>\n",
       "      <td>CB</td>\n",
       "      <td>4.31</td>\n",
       "      <td>5</td>\n",
       "    </tr>\n",
       "    <tr>\n",
       "      <th>...</th>\n",
       "      <td>...</td>\n",
       "      <td>...</td>\n",
       "      <td>...</td>\n",
       "    </tr>\n",
       "    <tr>\n",
       "      <th>1708</th>\n",
       "      <td>FS</td>\n",
       "      <td>4.73</td>\n",
       "      <td>136</td>\n",
       "    </tr>\n",
       "    <tr>\n",
       "      <th>1138</th>\n",
       "      <td>CB</td>\n",
       "      <td>4.74</td>\n",
       "      <td>146</td>\n",
       "    </tr>\n",
       "    <tr>\n",
       "      <th>1399</th>\n",
       "      <td>SS</td>\n",
       "      <td>4.74</td>\n",
       "      <td>144</td>\n",
       "    </tr>\n",
       "    <tr>\n",
       "      <th>488</th>\n",
       "      <td>WR</td>\n",
       "      <td>4.77</td>\n",
       "      <td>63</td>\n",
       "    </tr>\n",
       "    <tr>\n",
       "      <th>836</th>\n",
       "      <td>FS</td>\n",
       "      <td>4.83</td>\n",
       "      <td>244</td>\n",
       "    </tr>\n",
       "  </tbody>\n",
       "</table>\n",
       "<p>316 rows × 3 columns</p>\n",
       "</div>"
      ],
      "text/plain": [
       "     Position 40 Yard Dash Overall Pick\n",
       "1529       CB         4.25           81\n",
       "737        WR         4.27           78\n",
       "1642       WR         4.28          108\n",
       "1341       WR         4.31          111\n",
       "1456       CB         4.31            5\n",
       "...       ...          ...          ...\n",
       "1708       FS         4.73          136\n",
       "1138       CB         4.74          146\n",
       "1399       SS         4.74          144\n",
       "488        WR         4.77           63\n",
       "836        FS         4.83          244\n",
       "\n",
       "[316 rows x 3 columns]"
      ]
     },
     "execution_count": 11,
     "metadata": {},
     "output_type": "execute_result"
    }
   ],
   "source": [
    "d_skills.sort_values(\"40 Yard Dash\")"
   ]
  },
  {
   "cell_type": "code",
   "execution_count": 51,
   "metadata": {},
   "outputs": [
    {
     "data": {
      "text/plain": [
       "4.502215189873415"
      ]
     },
     "execution_count": 51,
     "metadata": {},
     "output_type": "execute_result"
    }
   ],
   "source": [
    "d_dash =np.mean(d_skills['40 Yard Dash'])\n",
    "d_dash"
   ]
  },
  {
   "cell_type": "code",
   "execution_count": 12,
   "metadata": {},
   "outputs": [],
   "source": [
    "u_skills = skills[skills[\"Overall Pick\"]==\"Undrafted\"]"
   ]
  },
  {
   "cell_type": "code",
   "execution_count": 13,
   "metadata": {},
   "outputs": [
    {
     "data": {
      "text/html": [
       "<div>\n",
       "<style scoped>\n",
       "    .dataframe tbody tr th:only-of-type {\n",
       "        vertical-align: middle;\n",
       "    }\n",
       "\n",
       "    .dataframe tbody tr th {\n",
       "        vertical-align: top;\n",
       "    }\n",
       "\n",
       "    .dataframe thead th {\n",
       "        text-align: right;\n",
       "    }\n",
       "</style>\n",
       "<table border=\"1\" class=\"dataframe\">\n",
       "  <thead>\n",
       "    <tr style=\"text-align: right;\">\n",
       "      <th></th>\n",
       "      <th>Position</th>\n",
       "      <th>40 Yard Dash</th>\n",
       "      <th>Overall Pick</th>\n",
       "    </tr>\n",
       "  </thead>\n",
       "  <tbody>\n",
       "    <tr>\n",
       "      <th>330</th>\n",
       "      <td>SS</td>\n",
       "      <td>4.66</td>\n",
       "      <td>Undrafted</td>\n",
       "    </tr>\n",
       "    <tr>\n",
       "      <th>348</th>\n",
       "      <td>WR</td>\n",
       "      <td>4.73</td>\n",
       "      <td>Undrafted</td>\n",
       "    </tr>\n",
       "    <tr>\n",
       "      <th>356</th>\n",
       "      <td>WR</td>\n",
       "      <td>4.51</td>\n",
       "      <td>Undrafted</td>\n",
       "    </tr>\n",
       "    <tr>\n",
       "      <th>363</th>\n",
       "      <td>WR</td>\n",
       "      <td>4.58</td>\n",
       "      <td>Undrafted</td>\n",
       "    </tr>\n",
       "    <tr>\n",
       "      <th>375</th>\n",
       "      <td>WR</td>\n",
       "      <td>4.56</td>\n",
       "      <td>Undrafted</td>\n",
       "    </tr>\n",
       "    <tr>\n",
       "      <th>...</th>\n",
       "      <td>...</td>\n",
       "      <td>...</td>\n",
       "      <td>...</td>\n",
       "    </tr>\n",
       "    <tr>\n",
       "      <th>1821</th>\n",
       "      <td>FS</td>\n",
       "      <td>4.62</td>\n",
       "      <td>Undrafted</td>\n",
       "    </tr>\n",
       "    <tr>\n",
       "      <th>1828</th>\n",
       "      <td>WR</td>\n",
       "      <td>4.49</td>\n",
       "      <td>Undrafted</td>\n",
       "    </tr>\n",
       "    <tr>\n",
       "      <th>1831</th>\n",
       "      <td>WR</td>\n",
       "      <td>4.59</td>\n",
       "      <td>Undrafted</td>\n",
       "    </tr>\n",
       "    <tr>\n",
       "      <th>1834</th>\n",
       "      <td>WR</td>\n",
       "      <td>4.5</td>\n",
       "      <td>Undrafted</td>\n",
       "    </tr>\n",
       "    <tr>\n",
       "      <th>1841</th>\n",
       "      <td>SS</td>\n",
       "      <td>4.64</td>\n",
       "      <td>Undrafted</td>\n",
       "    </tr>\n",
       "  </tbody>\n",
       "</table>\n",
       "<p>147 rows × 3 columns</p>\n",
       "</div>"
      ],
      "text/plain": [
       "     Position 40 Yard Dash Overall Pick\n",
       "330        SS         4.66    Undrafted\n",
       "348        WR         4.73    Undrafted\n",
       "356        WR         4.51    Undrafted\n",
       "363        WR         4.58    Undrafted\n",
       "375        WR         4.56    Undrafted\n",
       "...       ...          ...          ...\n",
       "1821       FS         4.62    Undrafted\n",
       "1828       WR         4.49    Undrafted\n",
       "1831       WR         4.59    Undrafted\n",
       "1834       WR          4.5    Undrafted\n",
       "1841       SS         4.64    Undrafted\n",
       "\n",
       "[147 rows x 3 columns]"
      ]
     },
     "execution_count": 13,
     "metadata": {},
     "output_type": "execute_result"
    }
   ],
   "source": [
    "u_skills"
   ]
  },
  {
   "cell_type": "code",
   "execution_count": 50,
   "metadata": {},
   "outputs": [
    {
     "data": {
      "text/plain": [
       "4.577619047619045"
      ]
     },
     "execution_count": 50,
     "metadata": {},
     "output_type": "execute_result"
    }
   ],
   "source": [
    "u_dash = np.mean(u_skills[\"40 Yard Dash\"])\n",
    "u_dash"
   ]
  },
  {
   "cell_type": "code",
   "execution_count": 52,
   "metadata": {},
   "outputs": [
    {
     "data": {
      "text/plain": [
       "-0.07540385774562974"
      ]
     },
     "execution_count": 52,
     "metadata": {},
     "output_type": "execute_result"
    }
   ],
   "source": [
    "obs = d_dash - u_dash\n",
    "obs"
   ]
  },
  {
   "cell_type": "code",
   "execution_count": 18,
   "metadata": {},
   "outputs": [
    {
     "data": {
      "image/png": "[encoded data removed]",
      "text/plain": [
       "<Figure size 432x288 with 1 Axes>"
      ]
     },
     "metadata": {
      "needs_background": "light"
     },
     "output_type": "display_data"
    }
   ],
   "source": [
    "plt.title(\"Skills 40 Speed Distribution\")\n",
    "plt.hist(d_skills['40 Yard Dash'], alpha=0.5, label='Drafted')\n",
    "plt.hist(u_skills['40 Yard Dash'], alpha=0.5, label='Undrafted')\n",
    "plt.ylabel('Frequency')\n",
    "plt.xlabel('Speed(secs)')\n",
    "plt.legend()\n",
    "plt.show()"
   ]
  },
  {
   "cell_type": "code",
   "execution_count": 45,
   "metadata": {},
   "outputs": [],
   "source": [
    "u_dash = np.mean(u_skills.sample(len(u_skills), replace=True).loc[:, '40 Yard Dash'])"
   ]
  },
  {
   "cell_type": "markdown",
   "metadata": {},
   "source": [
    "What is your null hypothesis?\n",
    "Speed does not matter between skills who are drafted and undrafted.\n",
    "\n",
    "What is your alternate hypothesis?\n",
    "Skills who are draffted are genrally faster than those who arent drafted.\n",
    "\n",
    "\n",
    "What statistic are you picking in order to assess the validity of the null hypothesis?\n",
    "I will compare the avg 40 times of drafted and undrafted and simulate numbers scenarios to see if there is any other cases where the difference between the two in speed will be equal to 0.\n",
    "\n",
    "\n",
    "What is the observed value of the statistic?\n",
    "-0.07540385774562974\n",
    "\n",
    "What significance level are you using? \n",
    "0.05"
   ]
  },
  {
   "cell_type": "code",
   "execution_count": 19,
   "metadata": {},
   "outputs": [],
   "source": [
    "\n",
    "trails = 1000\n",
    "draft_means = []\n",
    "undraft_means= []\n",
    "diff_means = []\n",
    "\n",
    "\n",
    "for i in np.arange(trails): \n",
    " \n",
    "    draft_mean = np.mean(d_skills.sample(len(d_skills), replace=True).loc[:, '40 Yard Dash'])\n",
    "    undraft_mean = np.mean(u_skills.sample(len(u_skills), replace=True).loc[:, '40 Yard Dash'])\n",
    "    \n",
    "\n",
    "    draft_means.append(draft_mean)\n",
    "    undraft_means.append(undraft_mean)\n",
    "    \n",
    "   \n",
    "    diff_means.append(draft_mean - undraft_mean)"
   ]
  },
  {
   "cell_type": "code",
   "execution_count": 72,
   "metadata": {},
   "outputs": [
    {
     "data": {
      "text/plain": [
       "<matplotlib.legend.Legend at 0x2189c1c1850>"
      ]
     },
     "execution_count": 72,
     "metadata": {},
     "output_type": "execute_result"
    },
    {
     "data": {
      "image/png": "[encoded data removed]",
      "text/plain": [
       "<Figure size 432x288 with 1 Axes>"
      ]
     },
     "metadata": {
      "needs_background": "light"
     },
     "output_type": "display_data"
    }
   ],
   "source": [
    "plt.title('Distribution of 40 Times')\n",
    "plt.hist(draft_means, alpha=0.5, label='drafted')\n",
    "plt.hist(undraft_means, alpha=0.5, label='undrafted')\n",
    "plt.ylabel('Frequency')\n",
    "plt.xlabel('Speed(secs)')\n",
    "plt.legend()\n",
    "\n"
   ]
  },
  {
   "cell_type": "code",
   "execution_count": 74,
   "metadata": {},
   "outputs": [
    {
     "data": {
      "image/png": "[encoded data removed]",
      "text/plain": [
       "<Figure size 432x288 with 1 Axes>"
      ]
     },
     "metadata": {
      "needs_background": "light"
     },
     "output_type": "display_data"
    }
   ],
   "source": [
    "plt.title('Distribution 40 Times Differences in Means')\n",
    "plt.hist(diff_means)\n",
    "plt.ylabel('Frequency')\n",
    "plt.xlabel('Drafted - Undrafted (Difference)')\n",
    "plt.axvline(x= 0, color='r')\n",
    "plt.show()"
   ]
  },
  {
   "cell_type": "code",
   "execution_count": 81,
   "metadata": {},
   "outputs": [
    {
     "data": {
      "text/plain": [
       "0.0"
      ]
     },
     "execution_count": 81,
     "metadata": {},
     "output_type": "execute_result"
    }
   ],
   "source": [
    "p_value = sum(np.array(diff_means) >= 0) / len(diff_means)\n",
    "p_value"
   ]
  },
  {
   "cell_type": "markdown",
   "metadata": {},
   "source": [
    "The p-value is less than 0.05 so we reject the null and accept the alterantive. This means that skill players who are drafted are on average faster than those who are not. I find this not thtat shocking because most of the time scout are looking for what your 40 time is in the combine because you need to be fast enough to play in the NFL if your fill isnt that good. So people who dont have fill tend to want to make combine look impressicve by running a good 40."
   ]
  },
  {
   "cell_type": "markdown",
   "metadata": {},
   "source": [
    "## Hypothesis 2"
   ]
  },
  {
   "cell_type": "code",
   "execution_count": null,
   "metadata": {},
   "outputs": [],
   "source": []
  },
  {
   "cell_type": "code",
   "execution_count": null,
   "metadata": {},
   "outputs": [],
   "source": []
  },
  {
   "cell_type": "code",
   "execution_count": 24,
   "metadata": {},
   "outputs": [],
   "source": [
    "shuttle = combine[combine[\"20 Yard Shuttle\"]!= \"N/A\"]"
   ]
  },
  {
   "cell_type": "code",
   "execution_count": 31,
   "metadata": {},
   "outputs": [],
   "source": [
    "shuttle = shuttle[[\"20 Yard Shuttle\",\"Weight (lbs)\"]]"
   ]
  },
  {
   "cell_type": "code",
   "execution_count": 34,
   "metadata": {},
   "outputs": [],
   "source": [
    "h_shuttle = shuttle[shuttle[\"Weight (lbs)\"] >= 250]"
   ]
  },
  {
   "cell_type": "code",
   "execution_count": 36,
   "metadata": {},
   "outputs": [
    {
     "data": {
      "text/html": [
       "<div>\n",
       "<style scoped>\n",
       "    .dataframe tbody tr th:only-of-type {\n",
       "        vertical-align: middle;\n",
       "    }\n",
       "\n",
       "    .dataframe tbody tr th {\n",
       "        vertical-align: top;\n",
       "    }\n",
       "\n",
       "    .dataframe thead th {\n",
       "        text-align: right;\n",
       "    }\n",
       "</style>\n",
       "<table border=\"1\" class=\"dataframe\">\n",
       "  <thead>\n",
       "    <tr style=\"text-align: right;\">\n",
       "      <th></th>\n",
       "      <th>20 Yard Shuttle</th>\n",
       "      <th>Weight (lbs)</th>\n",
       "    </tr>\n",
       "  </thead>\n",
       "  <tbody>\n",
       "    <tr>\n",
       "      <th>324</th>\n",
       "      <td>4.3</td>\n",
       "      <td>265</td>\n",
       "    </tr>\n",
       "    <tr>\n",
       "      <th>331</th>\n",
       "      <td>4.19</td>\n",
       "      <td>255</td>\n",
       "    </tr>\n",
       "    <tr>\n",
       "      <th>339</th>\n",
       "      <td>4.44</td>\n",
       "      <td>302</td>\n",
       "    </tr>\n",
       "    <tr>\n",
       "      <th>342</th>\n",
       "      <td>4.66</td>\n",
       "      <td>310</td>\n",
       "    </tr>\n",
       "    <tr>\n",
       "      <th>343</th>\n",
       "      <td>4.61</td>\n",
       "      <td>298</td>\n",
       "    </tr>\n",
       "    <tr>\n",
       "      <th>...</th>\n",
       "      <td>...</td>\n",
       "      <td>...</td>\n",
       "    </tr>\n",
       "    <tr>\n",
       "      <th>1840</th>\n",
       "      <td>4.62</td>\n",
       "      <td>250</td>\n",
       "    </tr>\n",
       "    <tr>\n",
       "      <th>1842</th>\n",
       "      <td>4.67</td>\n",
       "      <td>309</td>\n",
       "    </tr>\n",
       "    <tr>\n",
       "      <th>1844</th>\n",
       "      <td>4.29</td>\n",
       "      <td>254</td>\n",
       "    </tr>\n",
       "    <tr>\n",
       "      <th>1847</th>\n",
       "      <td>4.87</td>\n",
       "      <td>316</td>\n",
       "    </tr>\n",
       "    <tr>\n",
       "      <th>1848</th>\n",
       "      <td>4.56</td>\n",
       "      <td>251</td>\n",
       "    </tr>\n",
       "  </tbody>\n",
       "</table>\n",
       "<p>416 rows × 2 columns</p>\n",
       "</div>"
      ],
      "text/plain": [
       "     20 Yard Shuttle  Weight (lbs)\n",
       "324              4.3           265\n",
       "331             4.19           255\n",
       "339             4.44           302\n",
       "342             4.66           310\n",
       "343             4.61           298\n",
       "...              ...           ...\n",
       "1840            4.62           250\n",
       "1842            4.67           309\n",
       "1844            4.29           254\n",
       "1847            4.87           316\n",
       "1848            4.56           251\n",
       "\n",
       "[416 rows x 2 columns]"
      ]
     },
     "execution_count": 36,
     "metadata": {},
     "output_type": "execute_result"
    }
   ],
   "source": [
    "h_shuttle"
   ]
  },
  {
   "cell_type": "code",
   "execution_count": 62,
   "metadata": {},
   "outputs": [
    {
     "data": {
      "text/plain": [
       "4.629062499999998"
      ]
     },
     "execution_count": 62,
     "metadata": {},
     "output_type": "execute_result"
    }
   ],
   "source": [
    "h_yard =np.mean(h_shuttle['20 Yard Shuttle'])\n",
    "h_yard"
   ]
  },
  {
   "cell_type": "code",
   "execution_count": 37,
   "metadata": {},
   "outputs": [],
   "source": [
    "l_shuttle = shuttle[shuttle[\"Weight (lbs)\"] < 250]"
   ]
  },
  {
   "cell_type": "code",
   "execution_count": 39,
   "metadata": {},
   "outputs": [
    {
     "data": {
      "text/html": [
       "<div>\n",
       "<style scoped>\n",
       "    .dataframe tbody tr th:only-of-type {\n",
       "        vertical-align: middle;\n",
       "    }\n",
       "\n",
       "    .dataframe tbody tr th {\n",
       "        vertical-align: top;\n",
       "    }\n",
       "\n",
       "    .dataframe thead th {\n",
       "        text-align: right;\n",
       "    }\n",
       "</style>\n",
       "<table border=\"1\" class=\"dataframe\">\n",
       "  <thead>\n",
       "    <tr style=\"text-align: right;\">\n",
       "      <th></th>\n",
       "      <th>20 Yard Shuttle</th>\n",
       "      <th>Weight (lbs)</th>\n",
       "    </tr>\n",
       "  </thead>\n",
       "  <tbody>\n",
       "    <tr>\n",
       "      <th>320</th>\n",
       "      <td>4.08</td>\n",
       "      <td>195</td>\n",
       "    </tr>\n",
       "    <tr>\n",
       "      <th>321</th>\n",
       "      <td>4.3</td>\n",
       "      <td>212</td>\n",
       "    </tr>\n",
       "    <tr>\n",
       "      <th>322</th>\n",
       "      <td>4.51</td>\n",
       "      <td>220</td>\n",
       "    </tr>\n",
       "    <tr>\n",
       "      <th>323</th>\n",
       "      <td>4.15</td>\n",
       "      <td>187</td>\n",
       "    </tr>\n",
       "    <tr>\n",
       "      <th>325</th>\n",
       "      <td>4.49</td>\n",
       "      <td>225</td>\n",
       "    </tr>\n",
       "    <tr>\n",
       "      <th>...</th>\n",
       "      <td>...</td>\n",
       "      <td>...</td>\n",
       "    </tr>\n",
       "    <tr>\n",
       "      <th>1833</th>\n",
       "      <td>4.31</td>\n",
       "      <td>221</td>\n",
       "    </tr>\n",
       "    <tr>\n",
       "      <th>1834</th>\n",
       "      <td>4.11</td>\n",
       "      <td>210</td>\n",
       "    </tr>\n",
       "    <tr>\n",
       "      <th>1838</th>\n",
       "      <td>4.53</td>\n",
       "      <td>239</td>\n",
       "    </tr>\n",
       "    <tr>\n",
       "      <th>1841</th>\n",
       "      <td>4.17</td>\n",
       "      <td>223</td>\n",
       "    </tr>\n",
       "    <tr>\n",
       "      <th>1846</th>\n",
       "      <td>4.36</td>\n",
       "      <td>206</td>\n",
       "    </tr>\n",
       "  </tbody>\n",
       "</table>\n",
       "<p>687 rows × 2 columns</p>\n",
       "</div>"
      ],
      "text/plain": [
       "     20 Yard Shuttle  Weight (lbs)\n",
       "320             4.08           195\n",
       "321              4.3           212\n",
       "322             4.51           220\n",
       "323             4.15           187\n",
       "325             4.49           225\n",
       "...              ...           ...\n",
       "1833            4.31           221\n",
       "1834            4.11           210\n",
       "1838            4.53           239\n",
       "1841            4.17           223\n",
       "1846            4.36           206\n",
       "\n",
       "[687 rows x 2 columns]"
      ]
     },
     "execution_count": 39,
     "metadata": {},
     "output_type": "execute_result"
    }
   ],
   "source": [
    "l_shuttle"
   ]
  },
  {
   "cell_type": "code",
   "execution_count": 63,
   "metadata": {},
   "outputs": [
    {
     "data": {
      "text/plain": [
       "4.247525473071326"
      ]
     },
     "execution_count": 63,
     "metadata": {},
     "output_type": "execute_result"
    }
   ],
   "source": [
    "l_yard =np.mean(l_shuttle['20 Yard Shuttle'])\n",
    "l_yard"
   ]
  },
  {
   "cell_type": "code",
   "execution_count": 64,
   "metadata": {},
   "outputs": [
    {
     "data": {
      "text/plain": [
       "0.3815370269286724"
      ]
     },
     "execution_count": 64,
     "metadata": {},
     "output_type": "execute_result"
    }
   ],
   "source": [
    "obs = h_yard- l_yard\n",
    "obs"
   ]
  },
  {
   "cell_type": "code",
   "execution_count": 40,
   "metadata": {},
   "outputs": [
    {
     "data": {
      "image/png": "[encoded data removed]",
      "text/plain": [
       "<Figure size 432x288 with 1 Axes>"
      ]
     },
     "metadata": {
      "needs_background": "light"
     },
     "output_type": "display_data"
    }
   ],
   "source": [
    "plt.title(\"20 Yard Shuttle Distribution\")\n",
    "plt.hist(h_shuttle['20 Yard Shuttle'], alpha=0.5, label='Heavy')\n",
    "plt.hist(l_shuttle['20 Yard Shuttle'], alpha=0.5, label='Light')\n",
    "plt.ylabel('Frequency')\n",
    "plt.xlabel('Speed(secs)')\n",
    "plt.legend()\n",
    "plt.show()"
   ]
  },
  {
   "cell_type": "markdown",
   "metadata": {},
   "source": [
    "What is your null hypothesis?\n",
    "There is no difference between heavier and lighter players 20 yards shuttles.\n",
    "\n",
    "What is your alternate hypothesis?\n",
    "There is a difference between people who are heavier and lighter 20 yard shuttle times\n",
    "\n",
    "What statistic are you picking in order to assess the validity of the null hypothesis?\n",
    "Anyone over 250 is going to be considered heavy and under called lighter. Find the mean of simulated numbers and see if there is a significant differences.\n",
    "\n",
    "\n",
    "What is the observed value of the statistic?\n",
    "0.3815370269286724\n",
    "\n",
    "What significance level are you using? \n",
    "0.05"
   ]
  },
  {
   "cell_type": "code",
   "execution_count": 41,
   "metadata": {},
   "outputs": [],
   "source": [
    "trails = 1000\n",
    "heavy_means = []\n",
    "light_means= []\n",
    "diffs_means = []\n",
    "\n",
    "\n",
    "for i in np.arange(trails): \n",
    " \n",
    "    heavy_mean = np.mean(h_shuttle.sample(len(h_shuttle), replace=True).loc[:, '20 Yard Shuttle'])\n",
    "    light_mean = np.mean(l_shuttle.sample(len(l_shuttle), replace=True).loc[:, '20 Yard Shuttle'])\n",
    "    \n",
    "    \n",
    "    heavy_means.append(heavy_mean)\n",
    "    light_means.append(light_mean)\n",
    "    \n",
    "    \n",
    "    diffs_means.append(heavy_mean - light_mean)"
   ]
  },
  {
   "cell_type": "code",
   "execution_count": 73,
   "metadata": {},
   "outputs": [
    {
     "data": {
      "text/plain": [
       "<matplotlib.legend.Legend at 0x2189a3336a0>"
      ]
     },
     "execution_count": 73,
     "metadata": {},
     "output_type": "execute_result"
    },
    {
     "data": {
      "image/png": "[encoded data removed]",
      "text/plain": [
       "<Figure size 432x288 with 1 Axes>"
      ]
     },
     "metadata": {
      "needs_background": "light"
     },
     "output_type": "display_data"
    }
   ],
   "source": [
    "plt.title('Distribution of Shuttle Times')\n",
    "plt.hist(heavy_means, alpha=0.5, label='heavy')\n",
    "plt.hist(light_means, alpha=0.5, label='light')\n",
    "plt.xticks(np.arange(4.2,4.8,.1))\n",
    "plt.ylabel('Frequency')\n",
    "plt.xlabel('Speed(secs)')\n",
    "plt.legend()"
   ]
  },
  {
   "cell_type": "code",
   "execution_count": 75,
   "metadata": {},
   "outputs": [
    {
     "data": {
      "image/png": "[encoded data removed]",
      "text/plain": [
       "<Figure size 432x288 with 1 Axes>"
      ]
     },
     "metadata": {
      "needs_background": "light"
     },
     "output_type": "display_data"
    }
   ],
   "source": [
    "plt.title('Distribution Shuttle Times Differences in Means')\n",
    "plt.hist(diffs_means)\n",
    "plt.ylabel('Frequency')\n",
    "plt.xlabel('Heavy - Light (Difference)')\n",
    "plt.axvline(x=0, color='r')\n",
    "plt.show()"
   ]
  },
  {
   "cell_type": "code",
   "execution_count": 79,
   "metadata": {},
   "outputs": [
    {
     "data": {
      "text/plain": [
       "0.0"
      ]
     },
     "execution_count": 79,
     "metadata": {},
     "output_type": "execute_result"
    }
   ],
   "source": [
    "p_value = sum(np.array(diffs_means) <= 0) / len(diffs_means)\n",
    "p_value"
   ]
  },
  {
   "cell_type": "markdown",
   "metadata": {},
   "source": [
    "The p_value is less than 0.05 which mean we reject the null. This means that people who are heavier on average are slower in the 20 yard shuttle. I would believe this is correwct because the 20 yard shuttle is really and evalution of your agiltiy because you have to switch directions many times. I would believe that the lighter you are the more quick you would be."
   ]
  },
  {
   "cell_type": "code",
   "execution_count": null,
   "metadata": {},
   "outputs": [],
   "source": []
  }
 ],
 "metadata": {
  "kernelspec": {
   "display_name": "Python 3",
   "language": "python",
   "name": "python3"
  },
  "language_info": {
   "codemirror_mode": {
    "name": "ipython",
    "version": 3
   },
   "file_extension": ".py",
   "mimetype": "text/x-python",
   "name": "python",
   "nbconvert_exporter": "python",
   "pygments_lexer": "ipython3",
   "version": "3.8.3"
  }
 },
 "nbformat": 4,
 "nbformat_minor": 2
}
