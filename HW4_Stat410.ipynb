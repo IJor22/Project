{
 "cells": [
  {
   "cell_type": "markdown",
   "id": "98eacfdd",
   "metadata": {},
   "source": [
    "# Example save to disk\n",
    "\n",
    "As you work on the scrapes, it isn't necessary to re-download the webpage every time you modify your code.\n",
    "You could instead save the fetched html to your hard drive, and subsequently read it in from there.\n",
    "\n",
    "The code cells below do this for the first task, where the NOAA hurricane data is scraped.\n",
    "\n",
    "Once you have the html saved, you can simply not run the first code cell again, or comment it out."
   ]
  },
  {
   "cell_type": "code",
   "execution_count": 1,
   "id": "acd9c2dd",
   "metadata": {},
   "outputs": [],
   "source": [
    "import requests\n",
    "from bs4 import BeautifulSoup\n",
    "\n",
    "url = 'https://www.nhc.noaa.gov/pastdec.shtml'\n",
    "wx_page = requests.get(url, headers={'User-agent': 'Mozilla/5.0'}) # Get the page.\n",
    "soup = BeautifulSoup(wx_page.text, 'html.parser')\n",
    "\n",
    "# Save the page to disk.\n",
    "with open(r\"C:\\Users\\tyj85\\OneDrive\\Desktop\\UPenn\\School\\Stat 410\\HW4\\weather_page.html\", \"w\", encoding='utf-8') as file:\n",
    "    file.write(str(soup))   \n",
    "# with open(\"C:\\\\Users\\\\water\\\\Dropbox (Penn)\\\\Teaching\\\\4100s2023\\\\Homeworks\\\\HW4\\\\wx.html\", \"w\", encoding='utf-8') as file:\n",
    "#     file.write(str(soup))    "
   ]
  },
  {
   "cell_type": "code",
   "execution_count": 4,
   "id": "d61f33c8",
   "metadata": {},
   "outputs": [],
   "source": [
    "import requests\n",
    "from bs4 import BeautifulSoup\n",
    "with open(r\"C:\\Users\\tyj85\\OneDrive\\Desktop\\UPenn\\School\\Stat 410\\HW4\\weather_page.html\", 'r', encoding='utf-8') as f:\n",
    "    contents = f.read()\n",
    "    soup = BeautifulSoup(contents, 'html.parser')      "
   ]
  },
  {
   "cell_type": "code",
   "execution_count": 7,
   "id": "b10beb52-f6ed-426c-8252-945aec6b4fa2",
   "metadata": {},
   "outputs": [
    {
     "name": "stdout",
     "output_type": "stream",
     "text": [
      "<class 'bs4.element.Tag'>\n"
     ]
    }
   ],
   "source": [
    "tab = soup.table # Get the first table tag.\n",
    "print(type(tab)) "
   ]
  },
  {
   "cell_type": "code",
   "execution_count": 85,
   "id": "b5e91f22-584c-4a38-be81-fe46925accac",
   "metadata": {},
   "outputs": [
    {
     "name": "stdout",
     "output_type": "stream",
     "text": [
      "<class 'pandas.core.frame.DataFrame'>\n",
      "RangeIndex: 19 entries, 0 to 18\n",
      "Data columns (total 8 columns):\n",
      " #   Column                         Non-Null Count  Dtype  \n",
      "---  ------                         --------------  -----  \n",
      " 0   (Decade, Decade)               18 non-null     object \n",
      " 1   (Saffir-Simpson Category1, 1)  18 non-null     float64\n",
      " 2   (Saffir-Simpson Category1, 2)  18 non-null     float64\n",
      " 3   (Saffir-Simpson Category1, 3)  18 non-null     float64\n",
      " 4   (Saffir-Simpson Category1, 4)  18 non-null     float64\n",
      " 5   (Saffir-Simpson Category1, 5)  18 non-null     float64\n",
      " 6   (All1,2,3,4,5, All1,2,3,4,5)   18 non-null     float64\n",
      " 7   (Major3,4,5, Major3,4,5)       18 non-null     float64\n",
      "dtypes: float64(7), object(1)\n",
      "memory usage: 1.3+ KB\n",
      "None\n"
     ]
    }
   ],
   "source": [
    "import pandas as pd   \n",
    "df = pd.read_html(str(soup.table))[0] # You have to cast the html table to type string.                                         \n",
    "print(df.info())"
   ]
  },
  {
   "cell_type": "code",
   "execution_count": 86,
   "id": "0fecd215-e0f5-4b39-8171-4601c3700e55",
   "metadata": {},
   "outputs": [],
   "source": [
    "df = df[:-4]\n",
    "# set the index to Decade column\n",
    "df.set_index('Decade', inplace=True)"
   ]
  },
  {
   "cell_type": "code",
   "execution_count": 87,
   "id": "d460b488-c1cf-4f86-b405-917c5d2e03ba",
   "metadata": {},
   "outputs": [
    {
     "data": {
      "text/html": [
       "<div>\n",
       "<style scoped>\n",
       "    .dataframe tbody tr th:only-of-type {\n",
       "        vertical-align: middle;\n",
       "    }\n",
       "\n",
       "    .dataframe tbody tr th {\n",
       "        vertical-align: top;\n",
       "    }\n",
       "\n",
       "    .dataframe thead tr th {\n",
       "        text-align: left;\n",
       "    }\n",
       "\n",
       "    .dataframe thead tr:last-of-type th {\n",
       "        text-align: right;\n",
       "    }\n",
       "</style>\n",
       "<table border=\"1\" class=\"dataframe\">\n",
       "  <thead>\n",
       "    <tr>\n",
       "      <th></th>\n",
       "      <th colspan=\"5\" halign=\"left\">Saffir-Simpson Category1</th>\n",
       "      <th>All1,2,3,4,5</th>\n",
       "      <th>Major3,4,5</th>\n",
       "    </tr>\n",
       "    <tr>\n",
       "      <th></th>\n",
       "      <th>1</th>\n",
       "      <th>2</th>\n",
       "      <th>3</th>\n",
       "      <th>4</th>\n",
       "      <th>5</th>\n",
       "      <th>All1,2,3,4,5</th>\n",
       "      <th>Major3,4,5</th>\n",
       "    </tr>\n",
       "    <tr>\n",
       "      <th>Decade</th>\n",
       "      <th></th>\n",
       "      <th></th>\n",
       "      <th></th>\n",
       "      <th></th>\n",
       "      <th></th>\n",
       "      <th></th>\n",
       "      <th></th>\n",
       "    </tr>\n",
       "  </thead>\n",
       "  <tbody>\n",
       "    <tr>\n",
       "      <th>(1851-1860,)</th>\n",
       "      <td>8.0</td>\n",
       "      <td>5.0</td>\n",
       "      <td>5.0</td>\n",
       "      <td>1.0</td>\n",
       "      <td>0.0</td>\n",
       "      <td>19.0</td>\n",
       "      <td>6.0</td>\n",
       "    </tr>\n",
       "    <tr>\n",
       "      <th>(1861-1870,)</th>\n",
       "      <td>8.0</td>\n",
       "      <td>6.0</td>\n",
       "      <td>1.0</td>\n",
       "      <td>0.0</td>\n",
       "      <td>0.0</td>\n",
       "      <td>15.0</td>\n",
       "      <td>1.0</td>\n",
       "    </tr>\n",
       "    <tr>\n",
       "      <th>(1871-1880,)</th>\n",
       "      <td>7.0</td>\n",
       "      <td>6.0</td>\n",
       "      <td>7.0</td>\n",
       "      <td>0.0</td>\n",
       "      <td>0.0</td>\n",
       "      <td>20.0</td>\n",
       "      <td>7.0</td>\n",
       "    </tr>\n",
       "    <tr>\n",
       "      <th>(1881-1890,)</th>\n",
       "      <td>8.0</td>\n",
       "      <td>9.0</td>\n",
       "      <td>4.0</td>\n",
       "      <td>1.0</td>\n",
       "      <td>0.0</td>\n",
       "      <td>22.0</td>\n",
       "      <td>5.0</td>\n",
       "    </tr>\n",
       "    <tr>\n",
       "      <th>(1891-1900,)</th>\n",
       "      <td>8.0</td>\n",
       "      <td>5.0</td>\n",
       "      <td>5.0</td>\n",
       "      <td>3.0</td>\n",
       "      <td>0.0</td>\n",
       "      <td>21.0</td>\n",
       "      <td>8.0</td>\n",
       "    </tr>\n",
       "    <tr>\n",
       "      <th>(1901-1910,)</th>\n",
       "      <td>10.0</td>\n",
       "      <td>4.0</td>\n",
       "      <td>4.0</td>\n",
       "      <td>0.0</td>\n",
       "      <td>0.0</td>\n",
       "      <td>18.0</td>\n",
       "      <td>4.0</td>\n",
       "    </tr>\n",
       "    <tr>\n",
       "      <th>(1911-1920,)</th>\n",
       "      <td>10.0</td>\n",
       "      <td>4.0</td>\n",
       "      <td>4.0</td>\n",
       "      <td>3.0</td>\n",
       "      <td>0.0</td>\n",
       "      <td>21.0</td>\n",
       "      <td>7.0</td>\n",
       "    </tr>\n",
       "    <tr>\n",
       "      <th>(1921-1930,)</th>\n",
       "      <td>5.0</td>\n",
       "      <td>3.0</td>\n",
       "      <td>3.0</td>\n",
       "      <td>2.0</td>\n",
       "      <td>0.0</td>\n",
       "      <td>13.0</td>\n",
       "      <td>5.0</td>\n",
       "    </tr>\n",
       "    <tr>\n",
       "      <th>(1931-1940,)</th>\n",
       "      <td>4.0</td>\n",
       "      <td>7.0</td>\n",
       "      <td>6.0</td>\n",
       "      <td>1.0</td>\n",
       "      <td>1.0</td>\n",
       "      <td>19.0</td>\n",
       "      <td>8.0</td>\n",
       "    </tr>\n",
       "    <tr>\n",
       "      <th>(1941-1950,)</th>\n",
       "      <td>8.0</td>\n",
       "      <td>6.0</td>\n",
       "      <td>9.0</td>\n",
       "      <td>1.0</td>\n",
       "      <td>0.0</td>\n",
       "      <td>24.0</td>\n",
       "      <td>10.0</td>\n",
       "    </tr>\n",
       "    <tr>\n",
       "      <th>(1951-1960,)</th>\n",
       "      <td>8.0</td>\n",
       "      <td>1.0</td>\n",
       "      <td>5.0</td>\n",
       "      <td>3.0</td>\n",
       "      <td>0.0</td>\n",
       "      <td>17.0</td>\n",
       "      <td>8.0</td>\n",
       "    </tr>\n",
       "    <tr>\n",
       "      <th>(1961-1970,)</th>\n",
       "      <td>3.0</td>\n",
       "      <td>5.0</td>\n",
       "      <td>4.0</td>\n",
       "      <td>1.0</td>\n",
       "      <td>1.0</td>\n",
       "      <td>14.0</td>\n",
       "      <td>6.0</td>\n",
       "    </tr>\n",
       "    <tr>\n",
       "      <th>(1971-1980,)</th>\n",
       "      <td>6.0</td>\n",
       "      <td>2.0</td>\n",
       "      <td>4.0</td>\n",
       "      <td>0.0</td>\n",
       "      <td>0.0</td>\n",
       "      <td>12.0</td>\n",
       "      <td>4.0</td>\n",
       "    </tr>\n",
       "    <tr>\n",
       "      <th>(1981-1990,)</th>\n",
       "      <td>9.0</td>\n",
       "      <td>1.0</td>\n",
       "      <td>4.0</td>\n",
       "      <td>1.0</td>\n",
       "      <td>0.0</td>\n",
       "      <td>15.0</td>\n",
       "      <td>5.0</td>\n",
       "    </tr>\n",
       "    <tr>\n",
       "      <th>(1991-2000,)</th>\n",
       "      <td>3.0</td>\n",
       "      <td>6.0</td>\n",
       "      <td>4.0</td>\n",
       "      <td>0.0</td>\n",
       "      <td>1.0</td>\n",
       "      <td>14.0</td>\n",
       "      <td>5.0</td>\n",
       "    </tr>\n",
       "  </tbody>\n",
       "</table>\n",
       "</div>"
      ],
      "text/plain": [
       "             Saffir-Simpson Category1                     All1,2,3,4,5  \\\n",
       "                                    1    2    3    4    5 All1,2,3,4,5   \n",
       "Decade                                                                   \n",
       "(1851-1860,)                      8.0  5.0  5.0  1.0  0.0         19.0   \n",
       "(1861-1870,)                      8.0  6.0  1.0  0.0  0.0         15.0   \n",
       "(1871-1880,)                      7.0  6.0  7.0  0.0  0.0         20.0   \n",
       "(1881-1890,)                      8.0  9.0  4.0  1.0  0.0         22.0   \n",
       "(1891-1900,)                      8.0  5.0  5.0  3.0  0.0         21.0   \n",
       "(1901-1910,)                     10.0  4.0  4.0  0.0  0.0         18.0   \n",
       "(1911-1920,)                     10.0  4.0  4.0  3.0  0.0         21.0   \n",
       "(1921-1930,)                      5.0  3.0  3.0  2.0  0.0         13.0   \n",
       "(1931-1940,)                      4.0  7.0  6.0  1.0  1.0         19.0   \n",
       "(1941-1950,)                      8.0  6.0  9.0  1.0  0.0         24.0   \n",
       "(1951-1960,)                      8.0  1.0  5.0  3.0  0.0         17.0   \n",
       "(1961-1970,)                      3.0  5.0  4.0  1.0  1.0         14.0   \n",
       "(1971-1980,)                      6.0  2.0  4.0  0.0  0.0         12.0   \n",
       "(1981-1990,)                      9.0  1.0  4.0  1.0  0.0         15.0   \n",
       "(1991-2000,)                      3.0  6.0  4.0  0.0  1.0         14.0   \n",
       "\n",
       "             Major3,4,5  \n",
       "             Major3,4,5  \n",
       "Decade                   \n",
       "(1851-1860,)        6.0  \n",
       "(1861-1870,)        1.0  \n",
       "(1871-1880,)        7.0  \n",
       "(1881-1890,)        5.0  \n",
       "(1891-1900,)        8.0  \n",
       "(1901-1910,)        4.0  \n",
       "(1911-1920,)        7.0  \n",
       "(1921-1930,)        5.0  \n",
       "(1931-1940,)        8.0  \n",
       "(1941-1950,)       10.0  \n",
       "(1951-1960,)        8.0  \n",
       "(1961-1970,)        6.0  \n",
       "(1971-1980,)        4.0  \n",
       "(1981-1990,)        5.0  \n",
       "(1991-2000,)        5.0  "
      ]
     },
     "execution_count": 87,
     "metadata": {},
     "output_type": "execute_result"
    }
   ],
   "source": [
    "df"
   ]
  },
  {
   "cell_type": "code",
   "execution_count": 99,
   "id": "787de139-7d9b-47de-a575-92ebd19ae6e7",
   "metadata": {},
   "outputs": [
    {
     "data": {
      "text/plain": [
       "list"
      ]
     },
     "execution_count": 99,
     "metadata": {},
     "output_type": "execute_result"
    }
   ],
   "source": [
    "type(df.index.tolist())"
   ]
  },
  {
   "cell_type": "code",
   "execution_count": 104,
   "id": "76c683ce-0b03-4e73-9eab-eb888461b361",
   "metadata": {},
   "outputs": [
    {
     "data": {
      "text/plain": [
       "<Figure size 5000x600 with 0 Axes>"
      ]
     },
     "metadata": {},
     "output_type": "display_data"
    },
    {
     "data": {
      "image/png": "[encoded data removed]",
      "text/plain": [
       "<Figure size 640x480 with 1 Axes>"
      ]
     },
     "metadata": {},
     "output_type": "display_data"
    }
   ],
   "source": [
    "import matplotlib.pyplot as plt\n",
    "\n",
    "\n",
    "plt.figure(figsize=(50, 6)) # set width to 12 inches, height to 6 inches\n",
    "\n",
    "\n",
    "\n",
    "# select the All1,2,3,4,5 column and plot the line graph\n",
    "df['All1,2,3,4,5'].plot(kind='line')\n",
    "\n",
    "# set the title and axis labels\n",
    "plt.title('Hurricanes by Decade')\n",
    "plt.xlabel('Decade')\n",
    "plt.xticks(range(len(df.index)), df.index.tolist(), rotation=45)\n",
    "plt.ylabel('Number of Hurricanes')\n",
    "plt.ylim(0,50)\n",
    "\n",
    "# display the plot\n",
    "plt.show()"
   ]
  },
  {
   "cell_type": "markdown",
   "id": "360d017c-690c-4926-9009-e053b2b2c8b6",
   "metadata": {},
   "source": [
    "### PART 2"
   ]
  },
  {
   "cell_type": "code",
   "execution_count": 107,
   "id": "cecf77b6-2154-43fb-bed1-afd6f806a04b",
   "metadata": {},
   "outputs": [],
   "source": [
    "import requests\n",
    "from bs4 import BeautifulSoup\n",
    "\n",
    "url = 'https://flightaware.com/live/flight/AAL481/history'\n",
    "fl_page = requests.get(url, headers={'User-agent': 'Mozilla/5.0'}) # Get the page.\n",
    "soup = BeautifulSoup(fl_page.text, 'html.parser')\n",
    "\n",
    "# Save the page to disk.\n",
    "with open(r\"C:\\Users\\tyj85\\OneDrive\\Desktop\\UPenn\\School\\Stat 410\\HW4\\flight_page.html\", \"w\", encoding='utf-8') as file:\n",
    "    file.write(str(soup))   \n"
   ]
  },
  {
   "cell_type": "code",
   "execution_count": 108,
   "id": "dfd7baa2-7091-4257-8b98-e94b90400739",
   "metadata": {},
   "outputs": [],
   "source": [
    "with open(r\"C:\\Users\\tyj85\\OneDrive\\Desktop\\UPenn\\School\\Stat 410\\HW4\\flight_page.html\", 'r', encoding='utf-8') as f:\n",
    "    contents = f.read()\n",
    "    soup = BeautifulSoup(contents, 'html.parser')  "
   ]
  },
  {
   "cell_type": "code",
   "execution_count": 119,
   "id": "88216244-50f1-4d30-bb48-948d973c06bc",
   "metadata": {
    "tags": []
   },
   "outputs": [],
   "source": [
    "tables = soup.findAll('table')"
   ]
  },
  {
   "cell_type": "code",
   "execution_count": 116,
   "id": "d4eda002-cfad-4bd1-8786-3e46f1a53e40",
   "metadata": {},
   "outputs": [],
   "source": [
    "soup.table"
   ]
  },
  {
   "cell_type": "code",
   "execution_count": 170,
   "id": "2693305a-6297-4350-b668-531202e7dd7d",
   "metadata": {},
   "outputs": [],
   "source": [
    "dfs = list() # A list to hold the data frames.\n",
    "for table in tables:\n",
    "    table.attrs.clear() # This clears the table attributes.\n",
    "    df = pd.read_html(str(table))[0] # Now pandas works!\n",
    "    # print(df.info())\n",
    "    dfs.append(df) "
   ]
  },
  {
   "cell_type": "code",
   "execution_count": 171,
   "id": "2b9e3d03-b9a5-482b-95a0-5fee64b00059",
   "metadata": {},
   "outputs": [],
   "source": [
    "true_df = dfs[3]"
   ]
  },
  {
   "cell_type": "code",
   "execution_count": 198,
   "id": "9a4a58ee-ddd6-4bff-929d-7b14d5dce6dc",
   "metadata": {},
   "outputs": [
    {
     "data": {
      "text/html": [
       "<div>\n",
       "<style scoped>\n",
       "    .dataframe tbody tr th:only-of-type {\n",
       "        vertical-align: middle;\n",
       "    }\n",
       "\n",
       "    .dataframe tbody tr th {\n",
       "        vertical-align: top;\n",
       "    }\n",
       "\n",
       "    .dataframe thead th {\n",
       "        text-align: right;\n",
       "    }\n",
       "</style>\n",
       "<table border=\"1\" class=\"dataframe\">\n",
       "  <thead>\n",
       "    <tr style=\"text-align: right;\">\n",
       "      <th></th>\n",
       "      <th>Date</th>\n",
       "      <th>Aircraft</th>\n",
       "      <th>Origin</th>\n",
       "      <th>Destination</th>\n",
       "      <th>Departure</th>\n",
       "      <th>Arrival</th>\n",
       "      <th>Duration</th>\n",
       "    </tr>\n",
       "  </thead>\n",
       "  <tbody>\n",
       "    <tr>\n",
       "      <th>2</th>\n",
       "      <td>26-Apr-2023</td>\n",
       "      <td>A21N</td>\n",
       "      <td>Los Angeles Intl (KLAX)</td>\n",
       "      <td>Philadelphia Intl (KPHL)</td>\n",
       "      <td>03:45PM PDT</td>\n",
       "      <td>11:29PM EDT</td>\n",
       "      <td>4:43</td>\n",
       "    </tr>\n",
       "    <tr>\n",
       "      <th>3</th>\n",
       "      <td>25-Apr-2023</td>\n",
       "      <td>A21N</td>\n",
       "      <td>Los Angeles Intl (KLAX)</td>\n",
       "      <td>Philadelphia Intl (KPHL)</td>\n",
       "      <td>03:51PM PDT</td>\n",
       "      <td>11:19PM EDT</td>\n",
       "      <td>4:28</td>\n",
       "    </tr>\n",
       "    <tr>\n",
       "      <th>4</th>\n",
       "      <td>24-Apr-2023</td>\n",
       "      <td>A21N</td>\n",
       "      <td>Los Angeles Intl (KLAX)</td>\n",
       "      <td>Philadelphia Intl (KPHL)</td>\n",
       "      <td>03:48PM PDT</td>\n",
       "      <td>11:22PM EDT</td>\n",
       "      <td>4:33</td>\n",
       "    </tr>\n",
       "    <tr>\n",
       "      <th>5</th>\n",
       "      <td>23-Apr-2023</td>\n",
       "      <td>A21N</td>\n",
       "      <td>Los Angeles Intl (KLAX)</td>\n",
       "      <td>Philadelphia Intl (KPHL)</td>\n",
       "      <td>03:40PM PDT</td>\n",
       "      <td>11:03PM EDT</td>\n",
       "      <td>4:22</td>\n",
       "    </tr>\n",
       "    <tr>\n",
       "      <th>6</th>\n",
       "      <td>22-Apr-2023</td>\n",
       "      <td>A21N</td>\n",
       "      <td>Los Angeles Intl (KLAX)</td>\n",
       "      <td>Philadelphia Intl (KPHL)</td>\n",
       "      <td>03:36PM PDT</td>\n",
       "      <td>11:03PM EDT</td>\n",
       "      <td>4:26</td>\n",
       "    </tr>\n",
       "    <tr>\n",
       "      <th>7</th>\n",
       "      <td>21-Apr-2023</td>\n",
       "      <td>A21N</td>\n",
       "      <td>Los Angeles Intl (KLAX)</td>\n",
       "      <td>Philadelphia Intl (KPHL)</td>\n",
       "      <td>03:42PM PDT</td>\n",
       "      <td>11:13PM EDT</td>\n",
       "      <td>4:30</td>\n",
       "    </tr>\n",
       "    <tr>\n",
       "      <th>8</th>\n",
       "      <td>20-Apr-2023</td>\n",
       "      <td>A21N</td>\n",
       "      <td>Los Angeles Intl (KLAX)</td>\n",
       "      <td>Philadelphia Intl (KPHL)</td>\n",
       "      <td>03:40PM PDT</td>\n",
       "      <td>11:34PM EDT</td>\n",
       "      <td>4:54</td>\n",
       "    </tr>\n",
       "    <tr>\n",
       "      <th>9</th>\n",
       "      <td>19-Apr-2023</td>\n",
       "      <td>A21N</td>\n",
       "      <td>Los Angeles Intl (KLAX)</td>\n",
       "      <td>Philadelphia Intl (KPHL)</td>\n",
       "      <td>03:43PM PDT</td>\n",
       "      <td>11:10PM EDT</td>\n",
       "      <td>4:27</td>\n",
       "    </tr>\n",
       "    <tr>\n",
       "      <th>10</th>\n",
       "      <td>18-Apr-2023</td>\n",
       "      <td>A21N</td>\n",
       "      <td>Los Angeles Intl (KLAX)</td>\n",
       "      <td>Philadelphia Intl (KPHL)</td>\n",
       "      <td>03:36PM PDT</td>\n",
       "      <td>11:01PM EDT</td>\n",
       "      <td>4:24</td>\n",
       "    </tr>\n",
       "    <tr>\n",
       "      <th>11</th>\n",
       "      <td>16-Apr-2023</td>\n",
       "      <td>A21N</td>\n",
       "      <td>Los Angeles Intl (KLAX)</td>\n",
       "      <td>Philadelphia Intl (KPHL)</td>\n",
       "      <td>03:46PM PDT</td>\n",
       "      <td>11:34PM EDT</td>\n",
       "      <td>4:48</td>\n",
       "    </tr>\n",
       "    <tr>\n",
       "      <th>12</th>\n",
       "      <td>15-Apr-2023</td>\n",
       "      <td>A21N</td>\n",
       "      <td>Los Angeles Intl (KLAX)</td>\n",
       "      <td>Philadelphia Intl (KPHL)</td>\n",
       "      <td>03:39PM PDT</td>\n",
       "      <td>11:24PM EDT</td>\n",
       "      <td>4:45</td>\n",
       "    </tr>\n",
       "    <tr>\n",
       "      <th>13</th>\n",
       "      <td>14-Apr-2023</td>\n",
       "      <td>A21N</td>\n",
       "      <td>Los Angeles Intl (KLAX)</td>\n",
       "      <td>Philadelphia Intl (KPHL)</td>\n",
       "      <td>03:48PM PDT</td>\n",
       "      <td>11:36PM EDT</td>\n",
       "      <td>4:48</td>\n",
       "    </tr>\n",
       "    <tr>\n",
       "      <th>14</th>\n",
       "      <td>13-Apr-2023</td>\n",
       "      <td>A21N</td>\n",
       "      <td>Los Angeles Intl (KLAX)</td>\n",
       "      <td>Philadelphia Intl (KPHL)</td>\n",
       "      <td>03:45PM PDT</td>\n",
       "      <td>11:33PM EDT</td>\n",
       "      <td>4:47</td>\n",
       "    </tr>\n",
       "  </tbody>\n",
       "</table>\n",
       "</div>"
      ],
      "text/plain": [
       "           Date Aircraft                   Origin               Destination  \\\n",
       "2   26-Apr-2023     A21N  Los Angeles Intl (KLAX)  Philadelphia Intl (KPHL)   \n",
       "3   25-Apr-2023     A21N  Los Angeles Intl (KLAX)  Philadelphia Intl (KPHL)   \n",
       "4   24-Apr-2023     A21N  Los Angeles Intl (KLAX)  Philadelphia Intl (KPHL)   \n",
       "5   23-Apr-2023     A21N  Los Angeles Intl (KLAX)  Philadelphia Intl (KPHL)   \n",
       "6   22-Apr-2023     A21N  Los Angeles Intl (KLAX)  Philadelphia Intl (KPHL)   \n",
       "7   21-Apr-2023     A21N  Los Angeles Intl (KLAX)  Philadelphia Intl (KPHL)   \n",
       "8   20-Apr-2023     A21N  Los Angeles Intl (KLAX)  Philadelphia Intl (KPHL)   \n",
       "9   19-Apr-2023     A21N  Los Angeles Intl (KLAX)  Philadelphia Intl (KPHL)   \n",
       "10  18-Apr-2023     A21N  Los Angeles Intl (KLAX)  Philadelphia Intl (KPHL)   \n",
       "11  16-Apr-2023     A21N  Los Angeles Intl (KLAX)  Philadelphia Intl (KPHL)   \n",
       "12  15-Apr-2023     A21N  Los Angeles Intl (KLAX)  Philadelphia Intl (KPHL)   \n",
       "13  14-Apr-2023     A21N  Los Angeles Intl (KLAX)  Philadelphia Intl (KPHL)   \n",
       "14  13-Apr-2023     A21N  Los Angeles Intl (KLAX)  Philadelphia Intl (KPHL)   \n",
       "\n",
       "      Departure      Arrival Duration  \n",
       "2   03:45PM PDT  11:29PM EDT     4:43  \n",
       "3   03:51PM PDT  11:19PM EDT     4:28  \n",
       "4   03:48PM PDT  11:22PM EDT     4:33  \n",
       "5   03:40PM PDT  11:03PM EDT     4:22  \n",
       "6   03:36PM PDT  11:03PM EDT     4:26  \n",
       "7   03:42PM PDT  11:13PM EDT     4:30  \n",
       "8   03:40PM PDT  11:34PM EDT     4:54  \n",
       "9   03:43PM PDT  11:10PM EDT     4:27  \n",
       "10  03:36PM PDT  11:01PM EDT     4:24  \n",
       "11  03:46PM PDT  11:34PM EDT     4:48  \n",
       "12  03:39PM PDT  11:24PM EDT     4:45  \n",
       "13  03:48PM PDT  11:36PM EDT     4:48  \n",
       "14  03:45PM PDT  11:33PM EDT     4:47  "
      ]
     },
     "execution_count": 198,
     "metadata": {},
     "output_type": "execute_result"
    }
   ],
   "source": [
    "flight_df = true_df[2:15]\n",
    "flight_df"
   ]
  },
  {
   "cell_type": "code",
   "execution_count": 199,
   "id": "86601378-0979-4d93-b2df-b1b28887d703",
   "metadata": {},
   "outputs": [],
   "source": [
    "flight_stat = pd.to_datetime(flight_df['Duration'], format=\"%H:%M\").dt.hour * 60 + pd.to_datetime(flight_df['Duration'], format=\"%H:%M\").dt.minute"
   ]
  },
  {
   "cell_type": "code",
   "execution_count": 195,
   "id": "eaca4962-4337-419d-9c4e-76991d1e5915",
   "metadata": {},
   "outputs": [
    {
     "data": {
      "text/plain": [
       "count     13.000000\n",
       "mean     276.538462\n",
       "std       11.140133\n",
       "min      262.000000\n",
       "25%      267.000000\n",
       "50%      273.000000\n",
       "75%      287.000000\n",
       "max      294.000000\n",
       "Name: Duration, dtype: float64"
      ]
     },
     "execution_count": 195,
     "metadata": {},
     "output_type": "execute_result"
    }
   ],
   "source": [
    "flight_stat.describe()"
   ]
  },
  {
   "cell_type": "markdown",
   "id": "5bcce31b-dc22-46b1-b102-e4d55b6ef88b",
   "metadata": {},
   "source": [
    "### PART 3"
   ]
  },
  {
   "cell_type": "code",
   "execution_count": 200,
   "id": "56bebd81-8497-46ec-a4d0-1040ba998fe5",
   "metadata": {},
   "outputs": [],
   "source": [
    "import requests\n",
    "from bs4 import BeautifulSoup\n",
    "\n",
    "url = 'http://wsj.com'\n",
    "wsj_page = requests.get(url, headers={'User-agent': 'Mozilla/5.0'}) # Get the page.\n",
    "soup = BeautifulSoup(wsj_page.text, 'html.parser')\n",
    "\n",
    "# Save the page to disk.\n",
    "with open(r\"C:\\Users\\tyj85\\OneDrive\\Desktop\\UPenn\\School\\Stat 410\\HW4\\wsj_page.html\", \"w\", encoding='utf-8') as file:\n",
    "    file.write(str(soup))   "
   ]
  },
  {
   "cell_type": "code",
   "execution_count": 203,
   "id": "7119806f-5bc5-4462-ac60-55e355640c71",
   "metadata": {},
   "outputs": [],
   "source": [
    "with open(r\"C:\\Users\\tyj85\\OneDrive\\Desktop\\UPenn\\School\\Stat 410\\HW4\\wsj_page.html\", 'r', encoding='utf-8') as f:\n",
    "    contents = f.read()\n",
    "    soup = BeautifulSoup(contents, 'html.parser')  "
   ]
  },
  {
   "cell_type": "code",
   "execution_count": 214,
   "id": "6bf34fd0-a0ad-4f4a-87b3-f7e4d70cf6d8",
   "metadata": {},
   "outputs": [],
   "source": [
    "#aside = soup.find('aside', id='most-popular-articles')"
   ]
  },
  {
   "cell_type": "code",
   "execution_count": 215,
   "id": "2c5d2f66-309a-42b0-976f-e048d773d1b1",
   "metadata": {
    "collapsed": true,
    "jupyter": {
     "outputs_hidden": true
    },
    "tags": []
   },
   "outputs": [
    {
     "data": {
      "text/plain": [
       "<aside class=\"\" id=\"most-popular-articles\" tabindex=\"-1\"><span class=\"style--strap--ND8Cuaip style--align-left--3iZ8c-pm\" style=\"display:block\"><h2 class=\"style--label--13MlcFOP typography--sans-serif-narrow--tQEgavy2 style--size-small--1mrJTuBn style--icon-position-right--Sm9pTJ3p style--popular--1tPwo3ys style--padding-top-12--3XU8PlhY style--padding-bottom-12--393Wqqzy\"><span class=\"\">Most Popular News</span><span class=\"style--icon--1WxxxS-r style--icon-position-right--Sm9pTJ3p\"></span></h2></span><ol class=\"WSJTheme--list-reset--3pR-r52l\"><li class=\"WSJTheme--popular--3OI9isfz\"><a class=\"WSJTheme--link--c8R_c_Vx\" href=\"https://www.wsj.com/articles/retirement-in-alabama-b59c55b3?mod=hp_trending_now_article_pos1\"><div class=\"WSJTheme--text--2yLVyzUM\"><div class=\"WSJTheme--headline-container--3LSmGuih\"><h3 class=\"WSJTheme--headline--nQ8J-FfZ\">Priced Out of Florida, More Retirees Are Trying This Sunbelt State on For Size</h3></div></div><div class=\"WSJTheme--thumb--DOohBjR2\"><div class=\"WSJTheme--thumb-overlay--3BJPZcOt\"></div><div class=\"WSJTheme--image-container--3BUONb0N\"><div class=\"WSJTheme--lazyload--1zvjCdOV WSJTheme--lazyload-v2--BovHtDic\"><div class=\"WSJTheme--lazy-load-wrapper--1TOawUTd\" style=\"background:#f5f7f8;padding-bottom:65.53%;position:relative\"><div style=\"min-height:0px;min-width:100%\"></div></div></div></div></div></a></li><li class=\"WSJTheme--popular--3OI9isfz\"><a class=\"WSJTheme--link--c8R_c_Vx\" href=\"https://www.wsj.com/articles/san-francisco-commercial-real-estate-office-buildings-471742ea?mod=hp_trending_now_article_pos2\"><div class=\"WSJTheme--text--2yLVyzUM\"><div class=\"WSJTheme--headline-container--3LSmGuih\"><h3 class=\"WSJTheme--headline--nQ8J-FfZ\">Fire Sale: $300 Million San Francisco Office Tower, Mostly Empty. Open to Offers.</h3></div></div><div class=\"WSJTheme--thumb--DOohBjR2\"><div class=\"WSJTheme--thumb-overlay--3BJPZcOt\"></div><div class=\"WSJTheme--image-container--3BUONb0N\"><div class=\"WSJTheme--lazyload--1zvjCdOV WSJTheme--lazyload-v2--BovHtDic\"><div class=\"WSJTheme--lazy-load-wrapper--1TOawUTd\" style=\"background:#f5f7f8;padding-bottom:65.53%;position:relative\"><div style=\"min-height:0px;min-width:100%\"></div></div></div></div></div></a></li><li class=\"WSJTheme--popular--3OI9isfz\"><a class=\"WSJTheme--link--c8R_c_Vx\" href=\"https://www.wsj.com/articles/tucker-carlson-speaks-out-in-twitter-video-two-days-after-his-ouster-from-fox-news-e0373ff1?mod=hp_trending_now_article_pos3\"><div class=\"WSJTheme--text--2yLVyzUM\"><div class=\"WSJTheme--headline-container--3LSmGuih\"><h3 class=\"WSJTheme--headline--nQ8J-FfZ\">Tucker Carlson Speaks Out in Twitter Video Two Days After Ouster From Fox News</h3></div></div><div class=\"WSJTheme--thumb--DOohBjR2\"><div class=\"WSJTheme--thumb-overlay--3BJPZcOt\"></div><div class=\"WSJTheme--image-container--3BUONb0N\"><div class=\"WSJTheme--lazyload--1zvjCdOV WSJTheme--lazyload-v2--BovHtDic\"><div class=\"WSJTheme--lazy-load-wrapper--1TOawUTd\" style=\"background:#f5f7f8;padding-bottom:65.53%;position:relative\"><div style=\"min-height:0px;min-width:100%\"></div></div></div></div></div></a></li><li class=\"WSJTheme--popular--3OI9isfz\"><a class=\"WSJTheme--link--c8R_c_Vx\" href=\"https://www.wsj.com/articles/us-gdp-economic-growth-first-quarter-2023-2ff4348c?mod=hp_trending_now_article_pos4\"><div class=\"WSJTheme--text--2yLVyzUM\"><div class=\"WSJTheme--headline-container--3LSmGuih\"><h3 class=\"WSJTheme--headline--nQ8J-FfZ\">GDP Report Shows Economic Growth Slowed in First Quarter</h3></div></div><div class=\"WSJTheme--thumb--DOohBjR2\"><div class=\"WSJTheme--thumb-overlay--3BJPZcOt\"></div><div class=\"WSJTheme--image-container--3BUONb0N\"><div class=\"WSJTheme--lazyload--1zvjCdOV WSJTheme--lazyload-v2--BovHtDic\"><div class=\"WSJTheme--lazy-load-wrapper--1TOawUTd\" style=\"background:#f5f7f8;padding-bottom:65.53%;position:relative\"><div style=\"min-height:0px;min-width:100%\"></div></div></div></div></div></a></li><li class=\"WSJTheme--popular--3OI9isfz\"><a class=\"WSJTheme--link--c8R_c_Vx\" href=\"https://www.wsj.com/articles/tucker-carlsons-vulgar-offensive-messages-about-colleagues-helped-seal-his-fate-at-fox-news-e52b3cc5?mod=hp_trending_now_article_pos5\"><div class=\"WSJTheme--text--2yLVyzUM\"><div class=\"WSJTheme--headline-container--3LSmGuih\"><h3 class=\"WSJTheme--headline--nQ8J-FfZ\">Carlson’s Vulgar Messages About Colleagues Helped Seal His Fate</h3></div></div><div class=\"WSJTheme--thumb--DOohBjR2\"><div class=\"WSJTheme--thumb-overlay--3BJPZcOt\"></div><div class=\"WSJTheme--image-container--3BUONb0N\"><div class=\"WSJTheme--lazyload--1zvjCdOV WSJTheme--lazyload-v2--BovHtDic\"><div class=\"WSJTheme--lazy-load-wrapper--1TOawUTd\" style=\"background:#f5f7f8;padding-bottom:65.53%;position:relative\"><div style=\"min-height:0px;min-width:100%\"></div></div></div></div></div></a></li></ol></aside>"
      ]
     },
     "execution_count": 215,
     "metadata": {},
     "output_type": "execute_result"
    }
   ],
   "source": [
    "soup.aside"
   ]
  },
  {
   "cell_type": "code",
   "execution_count": 216,
   "id": "a196296a-f12f-4b75-954c-836fcf1d4ccc",
   "metadata": {},
   "outputs": [],
   "source": [
    "poi = soup.aside"
   ]
  },
  {
   "cell_type": "code",
   "execution_count": 217,
   "id": "7e5455ee-f336-4e5b-ab67-d9d55a64d316",
   "metadata": {},
   "outputs": [
    {
     "name": "stdout",
     "output_type": "stream",
     "text": [
      "Priced Out of Florida, More Retirees Are Trying This Sunbelt State on For Size\n",
      "Fire Sale: $300 Million San Francisco Office Tower, Mostly Empty. Open to Offers.\n",
      "Tucker Carlson Speaks Out in Twitter Video Two Days After Ouster From Fox News\n",
      "GDP Report Shows Economic Growth Slowed in First Quarter\n",
      "Carlson’s Vulgar Messages About Colleagues Helped Seal His Fate\n"
     ]
    }
   ],
   "source": [
    "for h3 in poi.find_all('h3'):\n",
    "    print(h3.text)"
   ]
  },
  {
   "cell_type": "markdown",
   "id": "8b042b6b-d674-4836-9d09-ad5213b1dea0",
   "metadata": {},
   "source": [
    "### PART 4"
   ]
  },
  {
   "cell_type": "code",
   "execution_count": 218,
   "id": "262810af-ccca-4f39-938e-cfca314bca0b",
   "metadata": {},
   "outputs": [],
   "source": [
    "import requests\n",
    "from bs4 import BeautifulSoup\n",
    "\n",
    "url = 'https://philly.eater.com/maps/38-best-philadelphia-restaurants'\n",
    "pr_page = requests.get(url, headers={'User-agent': 'Mozilla/5.0'}) # Get the page.\n",
    "soup = BeautifulSoup(pr_page.text, 'html.parser')\n",
    "\n",
    "# Save the page to disk.\n",
    "with open(r\"C:\\Users\\tyj85\\OneDrive\\Desktop\\UPenn\\School\\Stat 410\\HW4\\philly_res_page.html\", \"w\", encoding='utf-8') as file:\n",
    "    file.write(str(soup))   "
   ]
  },
  {
   "cell_type": "code",
   "execution_count": 318,
   "id": "636784f4-b9e2-4a0b-b089-7828592c5204",
   "metadata": {},
   "outputs": [],
   "source": [
    "with open(r\"C:\\Users\\tyj85\\OneDrive\\Desktop\\UPenn\\School\\Stat 410\\HW4\\philly_res_page.html\", 'r', encoding='utf-8') as f:\n",
    "    contents = f.read()\n",
    "    soup = BeautifulSoup(contents, 'html.parser')  \n",
    "    "
   ]
  },
  {
   "cell_type": "code",
   "execution_count": 319,
   "id": "b2e6e64e-9c34-4463-ab79-c76bdbbd3d82",
   "metadata": {},
   "outputs": [],
   "source": [
    "main = soup.find('main')"
   ]
  },
  {
   "cell_type": "code",
   "execution_count": 320,
   "id": "fabc0bb1-15b7-40a4-b060-bd4d7fc102ae",
   "metadata": {},
   "outputs": [
    {
     "name": "stdout",
     "output_type": "stream",
     "text": [
      "The 38 Essential Restaurants in Philadelphia\n",
      "Jamaican D's Caribbean & American Restaurant\n",
      "Kim's Restaurant\n",
      "White Yak\n",
      "Dalessandro's Steaks\n",
      "Càphê Roasters\n",
      "Down North Pizza\n",
      "Sor Ynez\n",
      "Kalaya\n",
      "Eeva\n",
      "Middle Child Clubhouse\n",
      "South\n",
      "Vernick Fish\n",
      "Dim Sum Garden\n",
      "Jezabel’s\n",
      "Abyssinia\n",
      "Tambayan\n",
      "Honeysuckle Provisions\n",
      "Amma's South Indian Cuisine\n",
      "Her Place Supper Club\n",
      "High Street Philly\n",
      "Friday Saturday Sunday\n",
      "Zahav\n",
      "Puyero Venezuelan Flavor\n",
      "Le Caveau\n",
      "Ambra\n",
      "Royal Izakaya\n",
      "Pho 75\n",
      "El Mezcal Cantina\n",
      "South Philly Barbacoa\n",
      "River Twice\n",
      "Hardena \n",
      "Korshak Bagels\n",
      "Gabriella's Vietnam\n",
      "Juana Tamale\n",
      "Irwin's\n",
      "Machine Shop Boulangerie\n",
      "Zeppoli\n",
      "Southeast Asian Market\n"
     ]
    }
   ],
   "source": [
    "for h1 in main.find_all('h1'):\n",
    "    print(h1.text)"
   ]
  },
  {
   "cell_type": "code",
   "execution_count": 253,
   "id": "e9bcf12a-285b-4c56-b69e-d78ea499007f",
   "metadata": {},
   "outputs": [],
   "source": [
    "#c_data = soup.find('main', id='content')"
   ]
  },
  {
   "cell_type": "code",
   "execution_count": 315,
   "id": "8e8255ad-5ec4-47eb-ac38-dafe3cc4c14c",
   "metadata": {},
   "outputs": [],
   "source": [
    "# res_names = []\n",
    "# for sec in c_data.find_all('section'):\n",
    "#     if sec['data-slug'] in ['related-links', 'intro', 'newsletter']:\n",
    "#         continue\n",
    "#     else:\n",
    "#         res_names.append(sec['data-slug'])"
   ]
  },
  {
   "cell_type": "code",
   "execution_count": 321,
   "id": "7202a754-90b1-490f-822a-05b39768e21e",
   "metadata": {},
   "outputs": [],
   "source": [
    "# res_names"
   ]
  },
  {
   "cell_type": "code",
   "execution_count": null,
   "id": "661d9e4a-027e-4000-8691-a49c447fd162",
   "metadata": {},
   "outputs": [],
   "source": []
  }
 ],
 "metadata": {
  "kernelspec": {
   "display_name": "Python 3 (ipykernel)",
   "language": "python",
   "name": "python3"
  },
  "language_info": {
   "codemirror_mode": {
    "name": "ipython",
    "version": 3
   },
   "file_extension": ".py",
   "mimetype": "text/x-python",
   "name": "python",
   "nbconvert_exporter": "python",
   "pygments_lexer": "ipython3",
   "version": "3.9.13"
  },
  "toc": {
   "base_numbering": 1,
   "nav_menu": {},
   "number_sections": true,
   "sideBar": true,
   "skip_h1_title": false,
   "title_cell": "Table of Contents",
   "title_sidebar": "Contents",
   "toc_cell": false,
   "toc_position": {},
   "toc_section_display": true,
   "toc_window_display": false
  }
 },
 "nbformat": 4,
 "nbformat_minor": 5
}
